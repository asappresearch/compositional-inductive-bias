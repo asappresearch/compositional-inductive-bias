{
 "cells": [
  {
   "cell_type": "code",
   "execution_count": null,
   "metadata": {},
   "outputs": [],
   "source": [
    "import torch\n",
    "import numpy as np\n",
    "import random\n",
    "import math\n",
    "import string\n",
    "import matplotlib.pyplot as plt"
   ]
  },
  {
   "cell_type": "code",
   "execution_count": null,
   "metadata": {},
   "outputs": [],
   "source": [
    "# utterances = \"\"\"a  \n",
    "# b  \n",
    "# c  \"\"\".split('\\n')\n",
    "vocab_size = 10\n",
    "vocab = (' ' + string.ascii_lowercase)[:vocab_size]\n",
    "N = 10\n",
    "M = 5\n",
    "# vocab = ' abc'\n",
    "w2i = {c: i for i, c in enumerate(vocab)}\n",
    "print('w2i', w2i)\n",
    "\n",
    "utterances_idxes = torch.zeros(M, N, dtype=torch.int64)\n",
    "for n in range(N):\n",
    "    utterances_idxes[0, n] = n + 1"
   ]
  },
  {
   "cell_type": "code",
   "execution_count": null,
   "metadata": {},
   "outputs": [],
   "source": [
    "# N = len(utterances)\n",
    "# M = np.max([len(u) for u in utterances]).item()\n",
    "print('N', N, 'M', M)\n",
    "# utterances_idxes = torch.zeros(M, N, dtype=torch.int64)\n",
    "# for n, u in enumerate(utterances):\n",
    "#     for m, c in enumerate(u):\n",
    "#         utterances_idxes[m, n] = w2i[c]\n",
    "print('utterances_idxes', utterances_idxes)"
   ]
  },
  {
   "cell_type": "code",
   "execution_count": null,
   "metadata": {},
   "outputs": [],
   "source": [
    "torch.manual_seed(123)\n",
    "P = torch.rand(M, M)\n",
    "P = P / P.det()\n",
    "print('U', utterances_idxes)\n",
    "U1 = (P @ utterances_idxes.float() + 0.5).long()\n",
    "print('U1', U1)\n",
    "Pinv = P.inverse()\n",
    "U2 = (Pinv @ U1.float() + 0.5).long()\n",
    "print('U2', U2)"
   ]
  },
  {
   "cell_type": "code",
   "execution_count": null,
   "metadata": {},
   "outputs": [],
   "source": []
  }
 ],
 "metadata": {
  "kernelspec": {
   "display_name": "Python 3",
   "language": "python",
   "name": "python3"
  },
  "language_info": {
   "codemirror_mode": {
    "name": "ipython",
    "version": 3
   },
   "file_extension": ".py",
   "mimetype": "text/x-python",
   "name": "python",
   "nbconvert_exporter": "python",
   "pygments_lexer": "ipython3",
   "version": "3.6.6"
  }
 },
 "nbformat": 4,
 "nbformat_minor": 2
}
