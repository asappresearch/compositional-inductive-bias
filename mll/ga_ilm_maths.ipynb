{
 "cells": [
  {
   "cell_type": "markdown",
   "metadata": {},
   "source": [
    "think about what might be the mathematical mechanism of using GA with ILM\n",
    "\n",
    "Let's suppose that ILM is a random walk, whereas without ILM each generation is a random draw, then we have:"
   ]
  },
  {
   "cell_type": "code",
   "execution_count": null,
   "metadata": {},
   "outputs": [],
   "source": [
    "%matplotlib inline\n",
    "import matplotlib.pyplot as plt\n",
    "import numpy as np\n",
    "import torch\n",
    "import math\n",
    "import time\n",
    "\n",
    "def plot(x, y, *args, **kwargs):\n",
    "    plt.plot(x.numpy(), y.numpy(), *args, **kwargs)\n",
    "\n",
    "y1 = 0  # random walk\n",
    "y2 = 0  # random\n",
    "y3 = 0   # random walk + ga\n",
    "y4 = 0   # random + ga\n",
    "\n",
    "N = 100\n",
    "X = torch.arange(N)\n",
    "y1_t = torch.zeros(N)\n",
    "y2_t = torch.zeros(N)\n",
    "y3_t = torch.zeros(N)\n",
    "y4_t = torch.zeros(N)\n",
    "for t in range(N):\n",
    "    y1 = y1 + torch.randn(1).item()\n",
    "    y2 = torch.randn(1).item()\n",
    "    y3_cand = y3 + torch.randn(1).item()\n",
    "    y3 = y3_cand if y3_cand > y3 else y3\n",
    "    y4_cand = torch.randn(1).item()\n",
    "    y4 = y4_cand if y4_cand > y4 else y4\n",
    "\n",
    "    y1_t[t] = y1\n",
    "    y2_t[t] = y2\n",
    "    y3_t[t] = y3\n",
    "    y4_t[t] = y4\n",
    "\n",
    "plot(X, y1_t, label='y1 (random walk)')\n",
    "plot(X, y2_t, label='y2 (random)')\n",
    "plot(X, y3_t, label='y3 (random walk + ga)')\n",
    "plot(X, y4_t, label='y4 (random + ga)')\n",
    "plt.ylim([-20, 20])\n",
    "plt.legend()\n",
    "plt.show()\n"
   ]
  },
  {
   "cell_type": "code",
   "execution_count": null,
   "metadata": {},
   "outputs": [],
   "source": [
    "\n",
    "num_its = 200\n",
    "N = 50\n",
    "X = torch.arange(N)\n",
    "y1_t = torch.zeros(N)\n",
    "y2_t = torch.zeros(N)\n",
    "y3_t = torch.zeros(N)\n",
    "y4_t = torch.zeros(N)\n",
    "\n",
    "for it in range(num_its):\n",
    "    y1 = 0  # random walk\n",
    "    y2 = 0  # random\n",
    "    y3 = 0   # random walk + ga\n",
    "    y4 = 0   # random + ga\n",
    "    for t in range(N):\n",
    "        y1 = y1 + torch.randn(1).item()\n",
    "        y2 = torch.randn(1).item()\n",
    "        y3_cand = y3 + torch.randn(1).item()\n",
    "        y3 = y3_cand if y3_cand > y3 else y3\n",
    "        y4_cand = torch.randn(1).item()\n",
    "        y4 = y4_cand if y4_cand > y4 else y4\n",
    "\n",
    "        y1_t[t] += y1 / num_its\n",
    "        y2_t[t] += y2 / num_its\n",
    "        y3_t[t] += y3 / num_its\n",
    "        y4_t[t] += y4 / num_its\n",
    "\n",
    "plot(X, y1_t, label='y1 (random walk)')\n",
    "plot(X, y2_t, label='y2 (random)')\n",
    "plot(X, y3_t, label='y3 (random walk + ga)')\n",
    "plot(X, y4_t, label='y4 (random + ga)')\n",
    "plt.ylim([-1, 20])\n",
    "plt.legend()\n",
    "plt.show()\n"
   ]
  }
 ],
 "metadata": {
  "kernelspec": {
   "display_name": "Python 3",
   "language": "python",
   "name": "python3"
  },
  "language_info": {
   "codemirror_mode": {
    "name": "ipython",
    "version": 3
   },
   "file_extension": ".py",
   "mimetype": "text/x-python",
   "name": "python",
   "nbconvert_exporter": "python",
   "pygments_lexer": "ipython3",
   "version": "3.6.6"
  }
 },
 "nbformat": 4,
 "nbformat_minor": 2
}
